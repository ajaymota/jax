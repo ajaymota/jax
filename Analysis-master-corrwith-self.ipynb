{
 "cells": [
  {
   "cell_type": "code",
   "execution_count": 7,
   "metadata": {},
   "outputs": [],
   "source": [
    "import pandas as pd\n",
    "import numpy as np"
   ]
  },
  {
   "cell_type": "markdown",
   "metadata": {},
   "source": [
    "# Distances"
   ]
  },
  {
   "cell_type": "code",
   "execution_count": 91,
   "metadata": {},
   "outputs": [],
   "source": [
    "activator = \"sgmd\"\n",
    "\n",
    "mnist_sgmd = []\n",
    "hands_sgmd = []\n",
    "fashn_sgmd = []\n",
    "\n",
    "for i in range(0, 10):\n",
    "    dataset = 'mnist'\n",
    "    df_cnn_relu0_1 = pd.read_csv(dataset + \"/results/\" + activator + \"/cnn_K\" + str(i) + \".csv\")\n",
    "    dataset = 'handsign_mnist'\n",
    "    df_cnn_relu0_2 = pd.read_csv(dataset + \"/results/\" + activator + \"/cnn_K\" + str(i) + \".csv\")\n",
    "    dataset = 'fashion_mnist'\n",
    "    df_cnn_relu0_3 = pd.read_csv(dataset + \"/results/\" + activator + \"/cnn_K\" + str(i) + \".csv\")\n",
    "\n",
    "    max_norm = np.linalg.norm(df_cnn_relu0_1.corrwith(df_cnn_relu0_1))\n",
    "    \n",
    "    mnist_sgmd.append(np.linalg.norm(df_cnn_relu0_1.corrwith(df_cnn_relu0_2)) / max_norm)\n",
    "    hands_sgmd.append(np.linalg.norm(df_cnn_relu0_2.corrwith(df_cnn_relu0_3)) / max_norm)\n",
    "    fashn_sgmd.append(np.linalg.norm(df_cnn_relu0_3.corrwith(df_cnn_relu0_1)) / max_norm)\n",
    "\n",
    "activator = \"tanh\"\n",
    "\n",
    "mnist_tanh = []\n",
    "hands_tanh = []\n",
    "fashn_tanh = []\n",
    "\n",
    "for i in range(0, 10):\n",
    "    dataset = 'mnist'\n",
    "    df_cnn_relu0_1 = pd.read_csv(dataset + \"/results/\" + activator + \"/cnn_K\" + str(i) + \".csv\")\n",
    "    dataset = 'handsign_mnist'\n",
    "    df_cnn_relu0_2 = pd.read_csv(dataset + \"/results/\" + activator + \"/cnn_K\" + str(i) + \".csv\")\n",
    "    dataset = 'fashion_mnist'\n",
    "    df_cnn_relu0_3 = pd.read_csv(dataset + \"/results/\" + activator + \"/cnn_K\" + str(i) + \".csv\")\n",
    "\n",
    "    max_norm = np.linalg.norm(df_cnn_relu0_1.corrwith(df_cnn_relu0_1))\n",
    "    \n",
    "    mnist_tanh.append(np.linalg.norm(df_cnn_relu0_1.corrwith(df_cnn_relu0_2)) / max_norm)\n",
    "    hands_tanh.append(np.linalg.norm(df_cnn_relu0_2.corrwith(df_cnn_relu0_3)) / max_norm)\n",
    "    fashn_tanh.append(np.linalg.norm(df_cnn_relu0_3.corrwith(df_cnn_relu0_1)) / max_norm)\n",
    "    \n",
    "activator = \"relu\"\n",
    "\n",
    "mnist_relu = []\n",
    "hands_relu = []\n",
    "fashn_relu = []\n",
    "\n",
    "for i in range(0, 10):\n",
    "    dataset = 'mnist'\n",
    "    df_cnn_relu0_1 = pd.read_csv(dataset + \"/results/\" + activator + \"/cnn_K\" + str(i) + \".csv\")\n",
    "    dataset = 'handsign_mnist'\n",
    "    df_cnn_relu0_2 = pd.read_csv(dataset + \"/results/\" + activator + \"/cnn_K\" + str(i) + \".csv\")\n",
    "    dataset = 'fashion_mnist'\n",
    "    df_cnn_relu0_3 = pd.read_csv(dataset + \"/results/\" + activator + \"/cnn_K\" + str(i) + \".csv\")\n",
    "\n",
    "    max_norm = np.linalg.norm(df_cnn_relu0_1.corrwith(df_cnn_relu0_1))\n",
    "    \n",
    "    mnist_relu.append(np.linalg.norm(df_cnn_relu0_1.corrwith(df_cnn_relu0_2)) / max_norm)\n",
    "    hands_relu.append(np.linalg.norm(df_cnn_relu0_2.corrwith(df_cnn_relu0_3)) / max_norm)\n",
    "    fashn_relu.append(np.linalg.norm(df_cnn_relu0_3.corrwith(df_cnn_relu0_1)) / max_norm)"
   ]
  },
  {
   "cell_type": "code",
   "execution_count": null,
   "metadata": {},
   "outputs": [],
   "source": []
  }
 ],
 "metadata": {
  "kernelspec": {
   "display_name": "Python 3",
   "language": "python",
   "name": "python3"
  },
  "language_info": {
   "codemirror_mode": {
    "name": "ipython",
    "version": 3
   },
   "file_extension": ".py",
   "mimetype": "text/x-python",
   "name": "python",
   "nbconvert_exporter": "python",
   "pygments_lexer": "ipython3",
   "version": "3.5.2"
  }
 },
 "nbformat": 4,
 "nbformat_minor": 4
}
