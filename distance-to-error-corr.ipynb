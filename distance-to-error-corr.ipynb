{
 "cells": [
  {
   "cell_type": "code",
   "execution_count": 21,
   "metadata": {},
   "outputs": [],
   "source": [
    "import pandas as pd\n",
    "from matplotlib import pyplot as plt\n",
    "import numpy as np\n",
    "import seaborn as sns"
   ]
  },
  {
   "cell_type": "code",
   "execution_count": 38,
   "metadata": {},
   "outputs": [],
   "source": [
    "# returns a distance value between two series\n",
    "# e.g. s1 = sgmd(eigen1) & s2 = relu(eigen1)\n",
    "# ranging from k0 to k9 for 1 epoch\n",
    "def get_distance_epoch_value(s1, s2):\n",
    "    s1 = s1.abs()\n",
    "    s2 = s2.abs()\n",
    "    \n",
    "    dist = s1 - s2\n",
    "    \n",
    "    max_dist = max(dist)\n",
    "    max_norm = np.linalg.norm([max_dist] * len(s1))\n",
    "    \n",
    "    return np.linalg.norm(dist) / max_norm"
   ]
  },
  {
   "cell_type": "code",
   "execution_count": 39,
   "metadata": {},
   "outputs": [],
   "source": [
    "# e.g. activator = 'sgmd'\n",
    "# returns a list of kernel values for an eigen number for 1 epoch\n",
    "def build_series_1epoch(dataset, activator, eig, e_no):\n",
    "    df_cnn_relu0 = pd.read_csv(dataset + \"/results/\" + activator + \"/cnn_K0.csv\")\n",
    "    df_cnn_relu1 = pd.read_csv(dataset + \"/results/\" + activator + \"/cnn_K1.csv\")\n",
    "    df_cnn_relu2 = pd.read_csv(dataset + \"/results/\" + activator + \"/cnn_K2.csv\")\n",
    "    df_cnn_relu3 = pd.read_csv(dataset + \"/results/\" + activator + \"/cnn_K3.csv\")\n",
    "    df_cnn_relu4 = pd.read_csv(dataset + \"/results/\" + activator + \"/cnn_K4.csv\")\n",
    "    df_cnn_relu5 = pd.read_csv(dataset + \"/results/\" + activator + \"/cnn_K5.csv\")\n",
    "    df_cnn_relu6 = pd.read_csv(dataset + \"/results/\" + activator + \"/cnn_K6.csv\")\n",
    "    df_cnn_relu7 = pd.read_csv(dataset + \"/results/\" + activator + \"/cnn_K7.csv\")\n",
    "    df_cnn_relu8 = pd.read_csv(dataset + \"/results/\" + activator + \"/cnn_K8.csv\")\n",
    "    df_cnn_relu9 = pd.read_csv(dataset + \"/results/\" + activator + \"/cnn_K9.csv\")\n",
    "\n",
    "    df_1 =   pd.Series([df_cnn_relu0.iloc[e_no][eig-1], df_cnn_relu1.iloc[e_no][eig-1], \n",
    "              df_cnn_relu2.iloc[e_no][eig-1], df_cnn_relu3.iloc[e_no][eig-1], \n",
    "              df_cnn_relu4.iloc[e_no][eig-1], df_cnn_relu5.iloc[e_no][eig-1],\n",
    "              df_cnn_relu6.iloc[e_no][eig-1], df_cnn_relu7.iloc[e_no][eig-1], \n",
    "              df_cnn_relu8.iloc[e_no][eig-1], df_cnn_relu9.iloc[e_no][eig-1]])\n",
    "    \n",
    "    return df_1"
   ]
  },
  {
   "cell_type": "code",
   "execution_count": 40,
   "metadata": {},
   "outputs": [],
   "source": [
    "# e.g. fcn1 = 'sgmd' & fcn2 = 'relu'\n",
    "# returns a list of distances between 2 activators over all epochs for 1 eigen number\n",
    "def get_distance_1eig_epoch_list(dataset, fcn1, fcn2, eig):\n",
    "    \n",
    "    epoch_list = []\n",
    "    for epoch in range(0, 10):\n",
    "        s1 = build_series_1epoch(dataset, fcn1, eig, epoch)\n",
    "        s2 = build_series_1epoch(dataset, fcn2, eig, epoch)\n",
    "        epoch_list.append(get_distance_epoch_value(s1, s2))\n",
    "        \n",
    "    max_norm = max(epoch_list)\n",
    "    for i in range(len(epoch_list)):\n",
    "        epoch_list[i] = epoch_list[i] / max_norm\n",
    "        \n",
    "    return epoch_list\n",
    "    "
   ]
  },
  {
   "cell_type": "code",
   "execution_count": 68,
   "metadata": {},
   "outputs": [],
   "source": [
    "def get_err(dataset, fcn1, fcn2):\n",
    "    e1 = pd.read_csv(dataset + \"/results/\" + fcn1 + \"/cnn_test_loss.csv\")\n",
    "    e2 = pd.read_csv(dataset + \"/results/\" + fcn2 + \"/cnn_test_loss.csv\")\n",
    "    \n",
    "    err = ((e1['0'] - e2['0']).abs() + 1) / (e1['0'] + e2['0'] + 1)\n",
    "    \n",
    "#     max_norm = max(err)\n",
    "#     for i in range(len(err)):\n",
    "#         err[i] = err[i] / max_norm\n",
    "    \n",
    "    return err"
   ]
  },
  {
   "cell_type": "code",
   "execution_count": 69,
   "metadata": {},
   "outputs": [],
   "source": [
    "def get_corr_to_error(dataset, fcn1, fcn2, eig):\n",
    "    \n",
    "    dists = get_distance_1eig_epoch_list(dataset, fcn1, fcn2, eig)\n",
    "    err = get_err(dataset, fcn1, fcn2)\n",
    "    \n",
    "    return np.corrcoef(dists, err)[0][1]\n",
    "    "
   ]
  },
  {
   "cell_type": "code",
   "execution_count": 70,
   "metadata": {},
   "outputs": [
    {
     "data": {
      "text/plain": [
       "0.10669355327738629"
      ]
     },
     "execution_count": 70,
     "metadata": {},
     "output_type": "execute_result"
    }
   ],
   "source": [
    "get_corr_to_error('mnist', 'tanh', 'relu', 5)"
   ]
  },
  {
   "cell_type": "code",
   "execution_count": null,
   "metadata": {},
   "outputs": [],
   "source": []
  }
 ],
 "metadata": {
  "kernelspec": {
   "display_name": "Python 3",
   "language": "python",
   "name": "python3"
  },
  "language_info": {
   "codemirror_mode": {
    "name": "ipython",
    "version": 3
   },
   "file_extension": ".py",
   "mimetype": "text/x-python",
   "name": "python",
   "nbconvert_exporter": "python",
   "pygments_lexer": "ipython3",
   "version": "3.7.3"
  }
 },
 "nbformat": 4,
 "nbformat_minor": 2
}
