{
 "cells": [
  {
   "cell_type": "code",
   "execution_count": 126,
   "metadata": {},
   "outputs": [],
   "source": [
    "import pandas as pd\n",
    "from matplotlib import pyplot as plt\n",
    "import numpy as np\n",
    "import seaborn as sns\n",
    "from sklearn.metrics import mean_squared_error"
   ]
  },
  {
   "cell_type": "code",
   "execution_count": 127,
   "metadata": {},
   "outputs": [],
   "source": [
    "# returns a distance value between two series\n",
    "# e.g. s1 = sgmd(eigen1) & s2 = relu(eigen1)\n",
    "# ranging from k0 to k9 for 1 epoch\n",
    "def get_distance_epoch_value(s1, s2):\n",
    "    s1 = s1.abs()\n",
    "    s2 = s2.abs()\n",
    "    \n",
    "#     dist = (s1 - s2).abs()\n",
    "    \n",
    "    return np.sqrt(mean_squared_error(s1, s2))"
   ]
  },
  {
   "cell_type": "code",
   "execution_count": 128,
   "metadata": {},
   "outputs": [],
   "source": [
    "# e.g. activator = 'sgmd'\n",
    "# returns a list of kernel values for an eigen number for the last epoch\n",
    "def build_series_1epoch(dataset, activator, eig):\n",
    "    df_cnn_relu0 = pd.read_csv(dataset + \"/results/\" + activator + \"/cnn_K0.csv\")\n",
    "    df_cnn_relu1 = pd.read_csv(dataset + \"/results/\" + activator + \"/cnn_K1.csv\")\n",
    "    df_cnn_relu2 = pd.read_csv(dataset + \"/results/\" + activator + \"/cnn_K2.csv\")\n",
    "    df_cnn_relu3 = pd.read_csv(dataset + \"/results/\" + activator + \"/cnn_K3.csv\")\n",
    "    df_cnn_relu4 = pd.read_csv(dataset + \"/results/\" + activator + \"/cnn_K4.csv\")\n",
    "    df_cnn_relu5 = pd.read_csv(dataset + \"/results/\" + activator + \"/cnn_K5.csv\")\n",
    "    df_cnn_relu6 = pd.read_csv(dataset + \"/results/\" + activator + \"/cnn_K6.csv\")\n",
    "    df_cnn_relu7 = pd.read_csv(dataset + \"/results/\" + activator + \"/cnn_K7.csv\")\n",
    "    df_cnn_relu8 = pd.read_csv(dataset + \"/results/\" + activator + \"/cnn_K8.csv\")\n",
    "    df_cnn_relu9 = pd.read_csv(dataset + \"/results/\" + activator + \"/cnn_K9.csv\")\n",
    "\n",
    "    df_1 =   pd.Series([  df_cnn_relu0.iloc[-1][eig-1], df_cnn_relu1.iloc[-1][eig-1], \n",
    "                          df_cnn_relu2.iloc[-1][eig-1], df_cnn_relu3.iloc[-1][eig-1], \n",
    "                          df_cnn_relu4.iloc[-1][eig-1], df_cnn_relu5.iloc[-1][eig-1],\n",
    "                          df_cnn_relu6.iloc[-1][eig-1], df_cnn_relu7.iloc[-1][eig-1], \n",
    "                          df_cnn_relu8.iloc[-1][eig-1], df_cnn_relu9.iloc[-1][eig-1]])\n",
    "    \n",
    "    return df_1"
   ]
  },
  {
   "cell_type": "code",
   "execution_count": 129,
   "metadata": {},
   "outputs": [],
   "source": [
    "# e.g. fcn1 = 'sgmd' & fcn2 = 'relu'\n",
    "# returns a list of distances between 2 activators for all eigen numbers\n",
    "def get_distance_1eig_epoch_list(dataset, fcn1, fcn2):\n",
    "    \n",
    "    eigen_list = []\n",
    "    for eigen in range(1, 6):\n",
    "        s1 = build_series_1epoch(dataset, fcn1, eigen)\n",
    "        s2 = build_series_1epoch(dataset, fcn2, eigen)\n",
    "        eigen_list.append(get_distance_epoch_value(s1, s2))\n",
    "        \n",
    "#     max_norm = max(eigen_list)\n",
    "#     for i in range(len(eigen_list)):\n",
    "#         eigen_list[i] = eigen_list[i] / max_norm\n",
    "        \n",
    "    return eigen_list\n",
    "    "
   ]
  },
  {
   "cell_type": "code",
   "execution_count": 142,
   "metadata": {},
   "outputs": [],
   "source": [
    "# returns err value between the final epochs\n",
    "def get_err(dataset, fcn1, fcn2):\n",
    "    e1 = pd.read_csv(dataset + \"/results/\" + fcn1 + \"/cnn_test_loss.csv\")\n",
    "    e2 = pd.read_csv(dataset + \"/results/\" + fcn2 + \"/cnn_test_loss.csv\")\n",
    "    \n",
    "    err = np.sqrt(mean_squared_error(e1['0'], e2['0']))\n",
    "    \n",
    "#     max_norm = max(err)\n",
    "#     for i in range(len(err)):\n",
    "#         err[i] = err[i] / max_norm\n",
    "    \n",
    "    return err"
   ]
  },
  {
   "cell_type": "code",
   "execution_count": 143,
   "metadata": {},
   "outputs": [],
   "source": [
    "dataset = 'mnist'\n",
    "combs = [('sgmd', 'tanh'), ('tanh', 'relu'), ('relu', 'sgmd'),\n",
    "         ('dropout/0.4/sgmd', 'dropout/0.4/tanh'), \n",
    "         ('dropout/0.4/tanh', 'dropout/0.4/relu'), \n",
    "         ('dropout/0.4/relu', 'dropout/0.4/sgmd'),\n",
    "         ('dropout/0.6/sgmd', 'dropout/0.6/tanh'),\n",
    "         ('dropout/0.6/tanh', 'dropout/0.6/relu'),\n",
    "         ('dropout/0.6/relu', 'dropout/0.6/sgmd'),\n",
    "         ('dropout/0.8/sgmd', 'dropout/0.8/tanh'), \n",
    "         ('dropout/0.8/tanh', 'dropout/0.8/relu'), \n",
    "         ('dropout/0.8/relu', 'dropout/0.8/sgmd')]\n",
    "\n",
    "main_list = []\n",
    "        \n",
    "for comb in combs:\n",
    "    main_list.append(get_distance_1eig_epoch_list(dataset, comb[0], comb[1]))\n",
    "    \n",
    "main_list = main_list\n",
    "\n",
    "err_list = []\n",
    "\n",
    "for comb in combs:\n",
    "    err_list.append(get_err(dataset, comb[0], comb[1]))\n",
    "    \n",
    "err_list = err_list"
   ]
  },
  {
   "cell_type": "code",
   "execution_count": 144,
   "metadata": {},
   "outputs": [],
   "source": [
    "main_T = np.array(main_list).T"
   ]
  },
  {
   "cell_type": "code",
   "execution_count": 145,
   "metadata": {},
   "outputs": [
    {
     "data": {
      "text/plain": [
       "array([[0.13848627, 0.16417577, 0.26378522, 0.26432294, 0.02856797,\n",
       "        0.26944908, 0.27511463, 0.05898152, 0.28192842, 0.27904722,\n",
       "        0.07906149, 0.29312595],\n",
       "       [0.04778592, 0.0721991 , 0.03329693, 0.05375748, 0.03321741,\n",
       "        0.0306791 , 0.04320363, 0.042317  , 0.02532014, 0.04892302,\n",
       "        0.05757979, 0.03101222],\n",
       "       [0.03632907, 0.04363574, 0.03210434, 0.01712307, 0.01922606,\n",
       "        0.03131598, 0.023487  , 0.02377539, 0.03350494, 0.02536804,\n",
       "        0.0345962 , 0.04039627],\n",
       "       [0.09824804, 0.09276244, 0.05384108, 0.06320572, 0.03807531,\n",
       "        0.04461123, 0.07396622, 0.05884868, 0.06025539, 0.07386583,\n",
       "        0.08799517, 0.07199933],\n",
       "       [0.22931695, 0.11676324, 0.18389842, 0.17782869, 0.04473189,\n",
       "        0.17542402, 0.18738876, 0.09258406, 0.18955209, 0.20735775,\n",
       "        0.13598938, 0.2045712 ]])"
      ]
     },
     "execution_count": 145,
     "metadata": {},
     "output_type": "execute_result"
    }
   ],
   "source": [
    "main_T"
   ]
  },
  {
   "cell_type": "code",
   "execution_count": 146,
   "metadata": {},
   "outputs": [
    {
     "data": {
      "text/plain": [
       "[0.6430219935770329,\n",
       " 0.07908536705272963,\n",
       " 0.7214445602831846,\n",
       " 0.29157227949904657,\n",
       " 0.025457244393199387,\n",
       " 0.31678333189862956,\n",
       " 0.3833056826697217,\n",
       " 0.05307682411228387,\n",
       " 0.4358113726803491,\n",
       " 0.5087575673321528,\n",
       " 0.08426122567393608,\n",
       " 0.5927081875886903]"
      ]
     },
     "execution_count": 146,
     "metadata": {},
     "output_type": "execute_result"
    }
   ],
   "source": [
    "err_list"
   ]
  },
  {
   "cell_type": "code",
   "execution_count": 147,
   "metadata": {},
   "outputs": [
    {
     "name": "stdout",
     "output_type": "stream",
     "text": [
      "0.6847269021371919\n",
      "-0.39035485018711974\n",
      "0.25298168567332535\n",
      "0.12984688443061376\n",
      "0.8617906924030374\n"
     ]
    }
   ],
   "source": [
    "print(np.corrcoef(main_T[0], err_list)[0][1])\n",
    "print(np.corrcoef(main_T[1], err_list)[0][1])\n",
    "print(np.corrcoef(main_T[2], err_list)[0][1])\n",
    "print(np.corrcoef(main_T[3], err_list)[0][1])\n",
    "print(np.corrcoef(main_T[4], err_list)[0][1])"
   ]
  },
  {
   "cell_type": "code",
   "execution_count": null,
   "metadata": {},
   "outputs": [],
   "source": []
  }
 ],
 "metadata": {
  "kernelspec": {
   "display_name": "Python 3",
   "language": "python",
   "name": "python3"
  },
  "language_info": {
   "codemirror_mode": {
    "name": "ipython",
    "version": 3
   },
   "file_extension": ".py",
   "mimetype": "text/x-python",
   "name": "python",
   "nbconvert_exporter": "python",
   "pygments_lexer": "ipython3",
   "version": "3.7.3"
  }
 },
 "nbformat": 4,
 "nbformat_minor": 2
}
